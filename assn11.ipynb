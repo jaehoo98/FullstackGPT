{
 "cells": [
  {
   "cell_type": "code",
   "execution_count": 4,
   "metadata": {},
   "outputs": [
    {
     "name": "stdout",
     "output_type": "stream",
     "text": [
      "AI:\n",
      "       I know this : \n",
      "       director : James Cameron\n",
      "       writer : James Cameron\n",
      "       top cast : Leonardo DiCaprio, Kate Winslet, Billy Zane, Kathy Bates\n",
      "       budget : $200,000,000 (estimated)\n",
      "       box office revenue : $2,195,170,133\n",
      "       genre : Drama, Romance\n",
      "       certificate : 12\n",
      "       runtime : 3 hours 14 minutes\n",
      "       plot summary : A seventeen-year-old aristocrat falls in love with a kind but poor artist aboard the luxurious, ill-fated R.M.S. Titanic."
     ]
    },
    {
     "data": {
      "text/plain": [
       "AIMessageChunk(content='AI:\\n       I know this : \\n       director : James Cameron\\n       writer : James Cameron\\n       top cast : Leonardo DiCaprio, Kate Winslet, Billy Zane, Kathy Bates\\n       budget : $200,000,000 (estimated)\\n       box office revenue : $2,195,170,133\\n       genre : Drama, Romance\\n       certificate : 12\\n       runtime : 3 hours 14 minutes\\n       plot summary : A seventeen-year-old aristocrat falls in love with a kind but poor artist aboard the luxurious, ill-fated R.M.S. Titanic.')"
      ]
     },
     "execution_count": 4,
     "metadata": {},
     "output_type": "execute_result"
    }
   ],
   "source": [
    "from langchain.chat_models import ChatOpenAI\n",
    "from langchain.prompts import PromptTemplate\n",
    "from langchain.prompts.few_shot import FewShotPromptTemplate\n",
    "from langchain.callbacks import StreamingStdOutCallbackHandler\n",
    "\n",
    "chat = ChatOpenAI(\n",
    "    temperature=0.1,\n",
    "    streaming = True, #진행 상황을 live로 볼 수 있다\n",
    "    callbacks=[\n",
    "        StreamingStdOutCallbackHandler(),\n",
    "        ],\n",
    ")\n",
    "\n",
    "examples=[ \n",
    "    {\n",
    "       \"question\":\"What do you know about Avatar?\",\n",
    "       \"answer\":\"\"\"\n",
    "       I know this : \n",
    "       director : James Cameron\n",
    "       writer : James Cameron\n",
    "       top cast : Sam Worthington, Zoe Saldana, Sigourney Weaver, Michelle Rodriguez\n",
    "       budget : $237,000,000 (estimated)\n",
    "       box office revenue : $2,923,706,026\n",
    "       genre : Action, Adventure\n",
    "       certificate : 12\n",
    "       runtime : 2 hours 42 minutes\n",
    "       plot summary : A paraplegic Marine dispatched to the moon Pandora on a unique mission becomes torn between following his orders and protecting the world he feels is his home.\n",
    "       \"\"\",\n",
    "    },\n",
    "    {\n",
    "       \"question\":\"What do you know about Inception?\",\n",
    "       \"answer\":\"\"\"\n",
    "       I know this : \n",
    "       director : Christopher Nolan\n",
    "       writer : Christopher Nolan\n",
    "       top cast : Leonardo DiCaprio, Joseph Gordon-Levitt, Elliot Page, Ken Watanabe\n",
    "       budget : $160,000,000 (estimated)\n",
    "       box office revenue : $839,030,630\n",
    "       genre : Action, Adventure\n",
    "       certificate : 12\n",
    "       runtime : 2 hours 28 minutes\n",
    "       plot summary : A thief who steals corporate secrets through the use of dream-sharing technology is given the inverse task of planting an idea into the mind of a C.E.O., but his tragic past may doom the project and his team to disaster.\n",
    "       \"\"\",\n",
    "    },\n",
    "    {\n",
    "       \"question\":\"What do you know about Iron Man 2?\",\n",
    "       \"answer\":\"\"\"\n",
    "       I know this : \n",
    "       director : Jon Favreau\n",
    "       writer : Stan Lee\n",
    "       top cast : Robert Downey Jr., Mickey Rourke, Gwyneth Paltrow, Don Cheadle\n",
    "       budget : $200,000,000 (estimated)\n",
    "       box office revenue : $623,933,331\n",
    "       genre : Action, Sci-Fi\n",
    "       certificate : 12\n",
    "       runtime : 2 hours 4 minutes\n",
    "       plot summary : With the world now aware of his identity as Iron Man, Tony Stark must contend with both his declining health and a vengeful mad man with ties to his father's legacy.\n",
    "       \"\"\",\n",
    "    },\n",
    "]\n",
    "\n",
    "example_prompt = PromptTemplate.from_template(\"Human:{question}\\nAI:{answer}\")\n",
    "\n",
    "prompt = FewShotPromptTemplate(\n",
    "    example_prompt = example_prompt,\n",
    "    examples = examples,\n",
    "    suffix = \"Human : What do you know about {movie}?\",\n",
    "    input_variables=[\"movie\"],\n",
    ")\n",
    "\n",
    "chain = prompt | chat\n",
    "\n",
    "chain.invoke({\n",
    "    \"movie\" : \"Titanic\"\n",
    "})"
   ]
  }
 ],
 "metadata": {
  "kernelspec": {
   "display_name": "env",
   "language": "python",
   "name": "python3"
  },
  "language_info": {
   "codemirror_mode": {
    "name": "ipython",
    "version": 3
   },
   "file_extension": ".py",
   "mimetype": "text/x-python",
   "name": "python",
   "nbconvert_exporter": "python",
   "pygments_lexer": "ipython3",
   "version": "3.10.8"
  }
 },
 "nbformat": 4,
 "nbformat_minor": 2
}
