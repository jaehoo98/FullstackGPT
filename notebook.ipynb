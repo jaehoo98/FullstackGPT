{
 "cells": [
  {
   "cell_type": "markdown",
   "metadata": {},
   "source": [
    "#3.2 Prompt Templates"
   ]
  },
  {
   "cell_type": "code",
   "execution_count": 13,
   "metadata": {},
   "outputs": [
    {
     "data": {
      "text/plain": [
       "'The distance between Mexico and Thailand is approximately 16,000 kilometers (9,942 miles) when measured in a straight line.'"
      ]
     },
     "execution_count": 13,
     "metadata": {},
     "output_type": "execute_result"
    }
   ],
   "source": [
    "from langchain.chat_models import ChatOpenAI\n",
    "from langchain.prompts import PromptTemplate, ChatPromptTemplate\n",
    "\n",
    "\n",
    "chat = ChatOpenAI(temperature=0.1)\n",
    "\n",
    "template = PromptTemplate.from_template(\"What is the distance between {country_a} and {country_b}\",\n",
    "                                        )\n",
    "prompt = template.format(country_a = \"Mexico\", country_b = \"Thailand\")\n",
    "\n",
    "chat.predict(prompt)"
   ]
  },
  {
   "cell_type": "code",
   "execution_count": 6,
   "metadata": {},
   "outputs": [
    {
     "data": {
      "text/plain": [
       "AIMessage(content='La distanza tra il Messico e la Thailandia è di circa 16.000 chilometri. Mi chiamo Paolo, sono un esperto di geografia. Avete altre domande per me?')"
      ]
     },
     "execution_count": 6,
     "metadata": {},
     "output_type": "execute_result"
    }
   ],
   "source": [
    "from langchain.schema import HumanMessage, AIMessage, SystemMessage\n",
    "\n",
    "messages = [\n",
    "    SystemMessage(content =\"You are a geography expert. And you only reply in Italian.\",\n",
    "                  ),\n",
    "    AIMessage(content = \"Ciao, mi chiamo Paolo!\"\n",
    "    ),\n",
    "    HumanMessage(content = \"What is the distance between Mexico and Thailand. Also, what is your name?\"\n",
    "                 ),\n",
    "]\n",
    "\n",
    "chat.predict_messages(messages)"
   ]
  },
  {
   "cell_type": "code",
   "execution_count": 19,
   "metadata": {},
   "outputs": [
    {
     "data": {
      "text/plain": [
       "AIMessage(content='Γεια σας! Η απόσταση μεταξύ του Μεξικού και της Ταϊλάνδης είναι περίπου 16.000 χιλιόμετρα. Το όνομά μου είναι Σωκράτης. Πώς μπορώ να βοηθήσω;')"
      ]
     },
     "execution_count": 19,
     "metadata": {},
     "output_type": "execute_result"
    }
   ],
   "source": [
    "template = ChatPromptTemplate.from_messages(\n",
    "    [\n",
    "    (\"system\", \"You are a geography expert. And you only reply in {language}.\"),\n",
    "    (\"ai\", \"Ciao, mi chiamo {name}!\"),\n",
    "    (\"human\",\n",
    "     \"What is the distance between {country_a} and {country_b}. Also, what is your name?\"\n",
    "     ),\n",
    "    ]\n",
    "    )\n",
    "\n",
    "prompt = template.format_messages(\n",
    "    language = \"Greek\",\n",
    "    name = \"Socrates\",\n",
    "    country_a = \"Mexico\",\n",
    "    country_b = \"Thailand\"\n",
    ")\n",
    "\n",
    "chat.predict_messages(prompt)"
   ]
  },
  {
   "cell_type": "markdown",
   "metadata": {},
   "source": [
    "#3.3 OutputParser and LCEL"
   ]
  },
  {
   "cell_type": "code",
   "execution_count": 23,
   "metadata": {},
   "outputs": [
    {
     "data": {
      "text/plain": [
       "['Hello', 'how', 'are', 'you']"
      ]
     },
     "execution_count": 23,
     "metadata": {},
     "output_type": "execute_result"
    }
   ],
   "source": [
    "from langchain.schema import BaseOutputParser\n",
    "\n",
    "class CommaOutputParser(BaseOutputParser):\n",
    "    def parse(self, text): #strip : 앞.뒤 공백 자름\n",
    "        items = text.strip().split(\",\")\n",
    "        return list(map(str.strip, items))\n",
    "    \n",
    "p = CommaOutputParser()\n",
    "\n",
    "p.parse(\"Hello,how,are,you\")\n",
    "p.parse(\"Hello,  how,  are,  you\")"
   ]
  },
  {
   "cell_type": "code",
   "execution_count": 31,
   "metadata": {},
   "outputs": [
    {
     "data": {
      "text/plain": [
       "AIMessage(content='mercury, venus, earth, mars, jupiter, saturn, uranus, neptune')"
      ]
     },
     "execution_count": 31,
     "metadata": {},
     "output_type": "execute_result"
    }
   ],
   "source": [
    "template = ChatPromptTemplate.from_messages(\n",
    "    [\n",
    "        (\"system\", \"You are a list generating machine. Everything you are asked will be answered with a comma seperated list of max {max_items} in lowercase. Do NOT reply with anything else.\"),\n",
    "        (\"human\", \"{question}\"),\n",
    "    ]\n",
    ")\n",
    "\n",
    "prompt = template.format_messages(\n",
    "    max_items = 10,\n",
    "    question = \"What are the planets?\"\n",
    ")\n",
    "\n",
    "chat.predict_messages(prompt)\n"
   ]
  },
  {
   "cell_type": "code",
   "execution_count": 35,
   "metadata": {},
   "outputs": [],
   "source": [
    "\n",
    "prompt = template.format_messages(\n",
    "    max_items = 10,\n",
    "    question = \"What are the colors?\"\n",
    ")\n",
    "\n",
    "result = chat.predict_messages(prompt)"
   ]
  },
  {
   "cell_type": "code",
   "execution_count": 36,
   "metadata": {},
   "outputs": [
    {
     "data": {
      "text/plain": [
       "['red',\n",
       " 'blue',\n",
       " 'green',\n",
       " 'yellow',\n",
       " 'orange',\n",
       " 'purple',\n",
       " 'pink',\n",
       " 'black',\n",
       " 'white',\n",
       " 'brown']"
      ]
     },
     "execution_count": 36,
     "metadata": {},
     "output_type": "execute_result"
    }
   ],
   "source": [
    "p = CommaOutputParser()\n",
    "\n",
    "p.parse(result.content)"
   ]
  },
  {
   "cell_type": "code",
   "execution_count": 37,
   "metadata": {},
   "outputs": [
    {
     "data": {
      "text/plain": [
       "['pikachu', 'charmander', 'bulbasaur', 'squirtle', 'jigglypuff']"
      ]
     },
     "execution_count": 37,
     "metadata": {},
     "output_type": "execute_result"
    }
   ],
   "source": [
    "#langchain -> template | chatModel | outputParser 이면 충분\n",
    "\n",
    "chain = template | chat | CommaOutputParser()  #긴 코드가 한 줄로 생략됨\n",
    "\n",
    "\"\"\"example\n",
    "chain_one = template_1 | chat | outputparser_one()\n",
    "chain_two = template_2 | chat | outputparser_two()\n",
    "all = chain_one | chain_two | outputparser()\n",
    "\"\"\"\n",
    "\n",
    "chain.invoke({\n",
    "    \"max_items\":5,\n",
    "    \"question\":\"What are the pokemons?\"\n",
    "})"
   ]
  },
  {
   "cell_type": "markdown",
   "metadata": {},
   "source": [
    "#3.4 Chaining Chains"
   ]
  },
  {
   "cell_type": "code",
   "execution_count": 47,
   "metadata": {},
   "outputs": [],
   "source": [
    "#components of langchain : Prompt(dict), Retriever(str), LLM/ChatModel(str or list or promptvalue), \n",
    "# Tool(str or dict), OutputParser(output of LLM/ChatModel)\n",
    "\n",
    "#output type : LLM(str), ChatModel(ChatMessage), Prompt(PromptValue)\n",
    "\n",
    "#################Let's start from zero####################\n",
    "\n",
    "from langchain.chat_models import ChatOpenAI\n",
    "from langchain.prompts import ChatPromptTemplate\n",
    "from langchain.callbacks import StreamingStdOutCallbackHandler\n",
    "\n",
    "chat = ChatOpenAI(temperature=0.1, streaming = True, callbacks=[StreamingStdOutCallbackHandler()]) #진행 상황을 live로 볼 수 있다\n",
    "\n",
    "chef_prompt = ChatPromptTemplate.from_messages([\n",
    "    (\"system\", \"You are a world-class international chef. You create easy to follow recipies for any type of cuisine with easy to find ingredients.\"),\n",
    "    (\"human\", \"I want to cook {cuisine} food.\"),\n",
    "])\n",
    "\n",
    "chef_chain = chef_prompt | chat # 레시피 전해주는 chef"
   ]
  },
  {
   "cell_type": "code",
   "execution_count": 42,
   "metadata": {},
   "outputs": [],
   "source": [
    "veg_chef_prompt = ChatPromptTemplate.from_messages([\n",
    "    (\"system\", \"You are a vegetarian chef specialized on making traditional recipies vegetarian. You find alternative ingredients and explain their preparation. You don't radically modify the recipe. If there is no alternative for a food just say you don't know how to replace it.\"),\n",
    "    (\"human\", \"{recipe}\"),\n",
    "])"
   ]
  },
  {
   "cell_type": "code",
   "execution_count": 48,
   "metadata": {},
   "outputs": [
    {
     "name": "stdout",
     "output_type": "stream",
     "text": [
      "Great choice! Indian cuisine is known for its bold flavors and aromatic spices. Let's start with a classic and easy recipe for Chicken Tikka Masala.\n",
      "\n",
      "Ingredients:\n",
      "- 1 lb boneless, skinless chicken breasts, cut into bite-sized pieces\n",
      "- 1 cup plain yogurt\n",
      "- 2 tbsp lemon juice\n",
      "- 2 tsp ground cumin\n",
      "- 2 tsp paprika\n",
      "- 1 tsp ground turmeric\n",
      "- 1 tsp garam masala\n",
      "- 1 tsp ground coriander\n",
      "- 1/2 tsp cayenne pepper (adjust to taste)\n",
      "- Salt and pepper to taste\n",
      "- 2 tbsp vegetable oil\n",
      "- 1 onion, finely chopped\n",
      "- 3 cloves garlic, minced\n",
      "- 1-inch piece of ginger, grated\n",
      "- 1 can (14 oz) crushed tomatoes\n",
      "- 1 cup heavy cream\n",
      "- Fresh cilantro, chopped (for garnish)\n",
      "\n",
      "Instructions:\n",
      "1. In a bowl, mix together yogurt, lemon juice, cumin, paprika, turmeric, garam masala, coriander, cayenne pepper, salt, and pepper. Add the chicken pieces and coat them well with the marinade. Cover and refrigerate for at least 1 hour, or overnight for best results.\n",
      "\n",
      "2. Preheat the oven to 400°F (200°C). Place the marinated chicken pieces on a baking sheet lined with parchment paper. Bake for 20-25 minutes or until the chicken is cooked through.\n",
      "\n",
      "3. In a large skillet, heat vegetable oil over medium heat. Add the chopped onion and cook until softened, about 5 minutes. Add the minced garlic and grated ginger, and cook for another 2 minutes.\n",
      "\n",
      "4. Stir in the crushed tomatoes and simmer for 10 minutes, stirring occasionally.\n",
      "\n",
      "5. Add the baked chicken pieces to the skillet and stir to combine with the sauce. Pour in the heavy cream and simmer for an additional 10 minutes, allowing the flavors to meld together.\n",
      "\n",
      "6. Taste and adjust seasoning if needed. Garnish with chopped cilantro before serving.\n",
      "\n",
      "7. Serve the Chicken Tikka Masala hot with steamed rice or naan bread.\n",
      "\n",
      "Enjoy your homemade Indian feast!For a vegetarian version of Chicken Tikka Masala, you can easily substitute the chicken with a plant-based alternative such as tofu or paneer. Here's how you can prepare the tofu or paneer as a replacement for the chicken in this recipe:\n",
      "\n",
      "**Tofu:**\n",
      "1. Use firm or extra-firm tofu for this recipe. Press the tofu to remove excess water by wrapping it in a clean kitchen towel or paper towels and placing a heavy object on top for about 15-20 minutes.\n",
      "2. Cut the pressed tofu into bite-sized cubes and proceed with marinating it as you would with the chicken in the recipe.\n",
      "3. Bake the marinated tofu in the oven at 400°F (200°C) for about 20-25 minutes or until it is slightly crispy on the outside.\n",
      "\n",
      "**Paneer:**\n",
      "1. If you prefer paneer over tofu, you can use store-bought or homemade paneer for this recipe.\n",
      "2. Cut the paneer into bite-sized cubes and lightly fry them in a pan until they develop a golden crust on the outside. This step helps the paneer hold its shape better in the sauce.\n",
      "3. Add the fried paneer to the sauce towards the end of cooking to prevent it from becoming too soft.\n",
      "\n",
      "By following these steps, you can enjoy a delicious vegetarian version of Chicken Tikka Masala without compromising on flavor and texture. Enjoy your vegetarian Indian feast!"
     ]
    },
    {
     "data": {
      "text/plain": [
       "AIMessageChunk(content=\"For a vegetarian version of Chicken Tikka Masala, you can easily substitute the chicken with a plant-based alternative such as tofu or paneer. Here's how you can prepare the tofu or paneer as a replacement for the chicken in this recipe:\\n\\n**Tofu:**\\n1. Use firm or extra-firm tofu for this recipe. Press the tofu to remove excess water by wrapping it in a clean kitchen towel or paper towels and placing a heavy object on top for about 15-20 minutes.\\n2. Cut the pressed tofu into bite-sized cubes and proceed with marinating it as you would with the chicken in the recipe.\\n3. Bake the marinated tofu in the oven at 400°F (200°C) for about 20-25 minutes or until it is slightly crispy on the outside.\\n\\n**Paneer:**\\n1. If you prefer paneer over tofu, you can use store-bought or homemade paneer for this recipe.\\n2. Cut the paneer into bite-sized cubes and lightly fry them in a pan until they develop a golden crust on the outside. This step helps the paneer hold its shape better in the sauce.\\n3. Add the fried paneer to the sauce towards the end of cooking to prevent it from becoming too soft.\\n\\nBy following these steps, you can enjoy a delicious vegetarian version of Chicken Tikka Masala without compromising on flavor and texture. Enjoy your vegetarian Indian feast!\")"
      ]
     },
     "execution_count": 48,
     "metadata": {},
     "output_type": "execute_result"
    }
   ],
   "source": [
    "veg_chain = veg_chef_prompt | chat\n",
    "\n",
    "final_chain = {\"recipe\":chef_chain} | veg_chain #{recipe}가 veg_chain의 input으로 와야 하므로\n",
    "\n",
    "final_chain.invoke({\n",
    "    \"cuisine\":\"indian\"\n",
    "})"
   ]
  },
  {
   "cell_type": "code",
   "execution_count": null,
   "metadata": {},
   "outputs": [],
   "source": []
  }
 ],
 "metadata": {
  "kernelspec": {
   "display_name": "env",
   "language": "python",
   "name": "python3"
  },
  "language_info": {
   "codemirror_mode": {
    "name": "ipython",
    "version": 3
   },
   "file_extension": ".py",
   "mimetype": "text/x-python",
   "name": "python",
   "nbconvert_exporter": "python",
   "pygments_lexer": "ipython3",
   "version": "3.10.8"
  }
 },
 "nbformat": 4,
 "nbformat_minor": 2
}
