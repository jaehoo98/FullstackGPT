{
 "cells": [
  {
   "cell_type": "markdown",
   "metadata": {},
   "source": [
    "(EN)\n",
    "Implement an LCEL chain with a memory that uses one of the memory classes we learned about.\n",
    "The chain should take the title of a movie and reply with three emojis that represent the movie. (i.e \"Top Gun\" -> \"🛩️👨‍✈️🔥\". \"The Godfather\" -> \"👨‍👨‍👦🔫🍝 \").\n",
    "Provide examples to the chain using FewShotPromptTemplate or FewShotChatMessagePromptTemplate to make sure it always replies with three emojis.\n",
    "To check that the memory is working ask the chain about two movies and then in another cell ask the chain to tell you what is the movie you asked about first.\n",
    "\n",
    "(KR)\n",
    "앞서 배운 메모리 클래스 중 하나를 사용하는 메모리로 LCEL 체인을 구현합니다.\n",
    "이 체인은 영화 제목을 가져와 영화를 나타내는 세 개의 이모티콘으로 응답해야 합니다. (예: \"탑건\" -> \"🛩️👨‍✈️🔥\". \"대부\" -> \"👨‍👨‍👦🔫🍝\").\n",
    "항상 세 개의 이모티콘으로 답장하도록 FewShotPromptTemplate 또는 FewShotChatMessagePromptTemplate을 사용하여 체인에 예시를 제공하세요.\n",
    "메모리가 작동하는지 확인하려면 체인에 두 개의 영화에 대해 질문한 다음 다른 셀에서 체인에 먼저 질문한 영화가 무엇인지 알려달라고 요청하세요."
   ]
  },
  {
   "cell_type": "code",
   "execution_count": 1,
   "metadata": {},
   "outputs": [],
   "source": [
    "from langchain.memory import ConversationSummaryBufferMemory\n",
    "from langchain.chat_models import ChatOpenAI\n",
    "from langchain.schema.runnable import RunnablePassthrough\n",
    "from langchain.prompts import ChatPromptTemplate, MessagesPlaceholder\n",
    "from langchain.prompts.few_shot import FewShotChatMessagePromptTemplate\n",
    "\n",
    "llm = ChatOpenAI(temperature=0.1,\n",
    ")\n",
    "\n",
    "memory = ConversationSummaryBufferMemory(\n",
    "    llm=llm,\n",
    "    max_token_limit=120,\n",
    "    return_messages=True,\n",
    ")\n",
    "\n",
    "examples=[ \n",
    "    {\n",
    "       \"question\":\"What do you know about Top Gun?\",\n",
    "       \"answer\":\"\"\"\n",
    "       🛩️👨‍✈️🔥\n",
    "       \"\"\",\n",
    "    },\n",
    "    {\n",
    "       \"question\":\"What do you know about The Godfather?\",\n",
    "       \"answer\":\"\"\"\n",
    "       👨‍👨‍👦🔫🍝\n",
    "       \"\"\",\n",
    "    },\n",
    "    {\n",
    "       \"question\":\"What do you know about Jaws?\",\n",
    "       \"answer\":\"\"\"\n",
    "      🛥️☠️🦈\n",
    "      \"\"\",\n",
    "    },\n",
    "    {\n",
    "       \"question\":\"What do you know about The Ring?\",\n",
    "       \"answer\":\"\"\"\n",
    "      📺⚫️🧟‍♀️\n",
    "      \"\"\",\n",
    "    },\n",
    "]\n",
    "\n",
    "example_prompt = ChatPromptTemplate.from_messages([\n",
    "    (\"human\", \"{question}\"),\n",
    "    (\"ai\", \"{answer}\")\n",
    "])\n",
    "\n",
    "example_prompt = FewShotChatMessagePromptTemplate(\n",
    "    example_prompt = example_prompt,\n",
    "    examples = examples,\n",
    ")\n",
    "\n",
    "final_prompt = ChatPromptTemplate.from_messages([\n",
    "    (\"system\", \"You are a movie expert, you give  three emojis that represent the movie.\"),\n",
    "    MessagesPlaceholder(variable_name=\"history\"),\n",
    "    example_prompt,\n",
    "    (\"human\", \"{question}\")\n",
    "])\n",
    "\n",
    "\"\"\"\n",
    "prompt = ChatPromptTemplate.from_messages(\n",
    "    [\n",
    "        (\"system\", \"You are a helpful AI talking to a human\"),\n",
    "        MessagesPlaceholder(variable_name=\"history\"),\n",
    "        (\"human\", \"{question}\"),\n",
    "    ]\n",
    ")\n",
    "\"\"\"\n",
    "\n",
    "\n",
    "def load_memory(_):\n",
    "    return memory.load_memory_variables({})[\"history\"]\n",
    "\n",
    "\n",
    "chain = RunnablePassthrough.assign(history=load_memory) | final_prompt | llm\n",
    "\n",
    "\n",
    "def invoke_chain(question):\n",
    "    result = chain.invoke({\"question\": question})\n",
    "    memory.save_context(\n",
    "        {\"input\": question},\n",
    "        {\"output\": result.content},\n",
    "    )\n",
    "    print(result)"
   ]
  },
  {
   "cell_type": "code",
   "execution_count": 2,
   "metadata": {},
   "outputs": [
    {
     "name": "stdout",
     "output_type": "stream",
     "text": [
      "content='🚢❤️🌊'\n"
     ]
    }
   ],
   "source": [
    "invoke_chain(\"What do you know about Titanic?\")"
   ]
  },
  {
   "cell_type": "code",
   "execution_count": 3,
   "metadata": {},
   "outputs": [
    {
     "name": "stdout",
     "output_type": "stream",
     "text": [
      "content='🪐🌿💙'\n"
     ]
    }
   ],
   "source": [
    "invoke_chain(\"What do you know about Avatar?\")"
   ]
  },
  {
   "cell_type": "code",
   "execution_count": 6,
   "metadata": {},
   "outputs": [
    {
     "name": "stdout",
     "output_type": "stream",
     "text": [
      "content='🦾💥🔴'\n"
     ]
    }
   ],
   "source": [
    "invoke_chain(\"What do you know about Iron Man 2?\")"
   ]
  },
  {
   "cell_type": "code",
   "execution_count": 7,
   "metadata": {},
   "outputs": [
    {
     "name": "stdout",
     "output_type": "stream",
     "text": [
      "content='The first movie you asked about was Titanic.'\n"
     ]
    }
   ],
   "source": [
    "invoke_chain(\"tell me what is the movie I asked about first.\")"
   ]
  }
 ],
 "metadata": {
  "kernelspec": {
   "display_name": "env",
   "language": "python",
   "name": "python3"
  },
  "language_info": {
   "codemirror_mode": {
    "name": "ipython",
    "version": 3
   },
   "file_extension": ".py",
   "mimetype": "text/x-python",
   "name": "python",
   "nbconvert_exporter": "python",
   "pygments_lexer": "ipython3",
   "version": "3.10.8"
  }
 },
 "nbformat": 4,
 "nbformat_minor": 2
}
